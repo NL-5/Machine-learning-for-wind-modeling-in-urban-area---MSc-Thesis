{
 "cells": [
  {
   "cell_type": "code",
   "execution_count": 1,
   "metadata": {},
   "outputs": [],
   "source": [
    "%matplotlib inline\n",
    "import ansys.fluent.core as pyfluent\n"
   ]
  },
  {
   "cell_type": "code",
   "execution_count": 2,
   "metadata": {},
   "outputs": [],
   "source": [
    "solver = pyfluent.launch_fluent(mode='solver', version='2d', precision='single', processor_count=1)"
   ]
  },
  {
   "cell_type": "code",
   "execution_count": 4,
   "metadata": {},
   "outputs": [
    {
     "ename": "RuntimeError",
     "evalue": "floating point exception\nError Object: #f",
     "output_type": "error",
     "traceback": [
      "\u001b[1;31m---------------------------------------------------------------------------\u001b[0m",
      "\u001b[1;31mRuntimeError\u001b[0m                              Traceback (most recent call last)",
      "Cell \u001b[1;32mIn[4], line 11\u001b[0m\n\u001b[0;32m      9\u001b[0m \u001b[38;5;66;03m# Set the solver settings\u001b[39;00m\n\u001b[0;32m     10\u001b[0m solver\u001b[38;5;241m.\u001b[39msolution\u001b[38;5;241m.\u001b[39mmethods\u001b[38;5;241m.\u001b[39mp_v_coupling\u001b[38;5;241m.\u001b[39mflow_scheme \u001b[38;5;241m=\u001b[39m \u001b[38;5;124m'\u001b[39m\u001b[38;5;124mSIMPLE\u001b[39m\u001b[38;5;124m'\u001b[39m\n\u001b[1;32m---> 11\u001b[0m \u001b[43msolver\u001b[49m\u001b[38;5;241;43m.\u001b[39;49m\u001b[43msolution\u001b[49m\u001b[38;5;241;43m.\u001b[39;49m\u001b[43minitialization\u001b[49m\u001b[38;5;241;43m.\u001b[39;49m\u001b[43mhybrid_initialize\u001b[49m\u001b[43m(\u001b[49m\u001b[43m)\u001b[49m\n\u001b[0;32m     12\u001b[0m solver\u001b[38;5;241m.\u001b[39msolution\u001b[38;5;241m.\u001b[39mrun_calculation\u001b[38;5;241m.\u001b[39miter_count \u001b[38;5;241m=\u001b[39m \u001b[38;5;241m500\u001b[39m\n\u001b[0;32m     13\u001b[0m solver\u001b[38;5;241m.\u001b[39msolution\u001b[38;5;241m.\u001b[39mrun_calculation\u001b[38;5;241m.\u001b[39mreporting_interval \u001b[38;5;241m=\u001b[39m \u001b[38;5;241m100\u001b[39m\n",
      "File \u001b[1;32mc:\\ProgramData\\anaconda3\\envs\\ansys\\Lib\\site-packages\\ansys\\fluent\\core\\solver\\flobject.py:1024\u001b[0m, in \u001b[0;36mCommand.__call__\u001b[1;34m(self, **kwds)\u001b[0m\n\u001b[0;32m   1022\u001b[0m         \u001b[38;5;28;01mif\u001b[39;00m response \u001b[38;5;129;01min\u001b[39;00m [\u001b[38;5;124m\"\u001b[39m\u001b[38;5;124mn\u001b[39m\u001b[38;5;124m\"\u001b[39m, \u001b[38;5;124m\"\u001b[39m\u001b[38;5;124mN\u001b[39m\u001b[38;5;124m\"\u001b[39m, \u001b[38;5;124m\"\u001b[39m\u001b[38;5;124mno\u001b[39m\u001b[38;5;124m\"\u001b[39m]:\n\u001b[0;32m   1023\u001b[0m             \u001b[38;5;28;01mreturn\u001b[39;00m\n\u001b[1;32m-> 1024\u001b[0m \u001b[38;5;28;01mreturn\u001b[39;00m \u001b[38;5;28;43mself\u001b[39;49m\u001b[38;5;241;43m.\u001b[39;49m\u001b[43mflproxy\u001b[49m\u001b[38;5;241;43m.\u001b[39;49m\u001b[43mexecute_cmd\u001b[49m\u001b[43m(\u001b[49m\u001b[38;5;28;43mself\u001b[39;49m\u001b[38;5;241;43m.\u001b[39;49m\u001b[43m_parent\u001b[49m\u001b[38;5;241;43m.\u001b[39;49m\u001b[43mpath\u001b[49m\u001b[43m,\u001b[49m\u001b[43m \u001b[49m\u001b[38;5;28;43mself\u001b[39;49m\u001b[38;5;241;43m.\u001b[39;49m\u001b[43mobj_name\u001b[49m\u001b[43m,\u001b[49m\u001b[43m \u001b[49m\u001b[38;5;241;43m*\u001b[39;49m\u001b[38;5;241;43m*\u001b[39;49m\u001b[43mnewkwds\u001b[49m\u001b[43m)\u001b[49m\n",
      "File \u001b[1;32mc:\\ProgramData\\anaconda3\\envs\\ansys\\Lib\\site-packages\\ansys\\fluent\\core\\services\\settings.py:122\u001b[0m, in \u001b[0;36m_trace.<locals>._fn\u001b[1;34m(self, *args, **kwds)\u001b[0m\n\u001b[0;32m    120\u001b[0m     \u001b[38;5;28;01mreturn\u001b[39;00m ret\n\u001b[0;32m    121\u001b[0m \u001b[38;5;28;01melse\u001b[39;00m:\n\u001b[1;32m--> 122\u001b[0m     \u001b[38;5;28;01mreturn\u001b[39;00m \u001b[43mfn\u001b[49m\u001b[43m(\u001b[49m\u001b[38;5;28;43mself\u001b[39;49m\u001b[43m,\u001b[49m\u001b[43m \u001b[49m\u001b[38;5;241;43m*\u001b[39;49m\u001b[43margs\u001b[49m\u001b[43m,\u001b[49m\u001b[43m \u001b[49m\u001b[38;5;241;43m*\u001b[39;49m\u001b[38;5;241;43m*\u001b[39;49m\u001b[43mkwds\u001b[49m\u001b[43m)\u001b[49m\n",
      "File \u001b[1;32mc:\\ProgramData\\anaconda3\\envs\\ansys\\Lib\\site-packages\\ansys\\fluent\\core\\services\\settings.py:320\u001b[0m, in \u001b[0;36mSettingsService.execute_cmd\u001b[1;34m(self, path, command, **kwds)\u001b[0m\n\u001b[0;32m    317\u001b[0m request\u001b[38;5;241m.\u001b[39mcommand \u001b[38;5;241m=\u001b[39m command\n\u001b[0;32m    318\u001b[0m \u001b[38;5;28mself\u001b[39m\u001b[38;5;241m.\u001b[39m_set_state_from_value(request\u001b[38;5;241m.\u001b[39margs, kwds)\n\u001b[1;32m--> 320\u001b[0m response \u001b[38;5;241m=\u001b[39m \u001b[38;5;28;43mself\u001b[39;49m\u001b[38;5;241;43m.\u001b[39;49m\u001b[43m_service_impl\u001b[49m\u001b[38;5;241;43m.\u001b[39;49m\u001b[43mexecute_cmd\u001b[49m\u001b[43m(\u001b[49m\u001b[43mrequest\u001b[49m\u001b[43m)\u001b[49m\n\u001b[0;32m    321\u001b[0m \u001b[38;5;28;01mreturn\u001b[39;00m \u001b[38;5;28mself\u001b[39m\u001b[38;5;241m.\u001b[39m_get_state_from_value(response\u001b[38;5;241m.\u001b[39mreply)\n",
      "File \u001b[1;32mc:\\ProgramData\\anaconda3\\envs\\ansys\\Lib\\site-packages\\ansys\\fluent\\core\\services\\error_handler.py:15\u001b[0m, in \u001b[0;36mcatch_grpc_error.<locals>.func\u001b[1;34m(*args, **kwargs)\u001b[0m\n\u001b[0;32m     13\u001b[0m     \u001b[38;5;28;01mreturn\u001b[39;00m f(\u001b[38;5;241m*\u001b[39margs, \u001b[38;5;241m*\u001b[39m\u001b[38;5;241m*\u001b[39mkwargs)\n\u001b[0;32m     14\u001b[0m \u001b[38;5;28;01mexcept\u001b[39;00m grpc\u001b[38;5;241m.\u001b[39mRpcError \u001b[38;5;28;01mas\u001b[39;00m ex:\n\u001b[1;32m---> 15\u001b[0m     \u001b[38;5;28;01mraise\u001b[39;00m \u001b[38;5;167;01mRuntimeError\u001b[39;00m(ex\u001b[38;5;241m.\u001b[39mdetails()) \u001b[38;5;28;01mfrom\u001b[39;00m \u001b[38;5;28;01mNone\u001b[39;00m\n",
      "\u001b[1;31mRuntimeError\u001b[0m: floating point exception\nError Object: #f"
     ]
    }
   ],
   "source": [
    "for i in range(1, 11):\n",
    "    mesh_path = f\"C:/TUD/Thesis/Data/simulation/ansys/meshing/100/attached/attached{i}.msh\"\n",
    "    solver.file.read_mesh(file_name = mesh_path)\n",
    "\n",
    "    # setting the velocity magnitude as 10 m/s\n",
    "    solver.setup.boundary_conditions.velocity_inlet['inlet'].vmag = 10\n",
    "    # Set the turbulence model\n",
    "    solver.setup.models.viscous = {\"model\": \"k-epsilon\"}\n",
    "    # Set the solver settings\n",
    "    solver.solution.methods.p_v_coupling.flow_scheme = 'SIMPLE'\n",
    "    solver.solution.initialization.hybrid_initialize()\n",
    "    solver.solution.run_calculation.iter_count = 500\n",
    "    # \n",
    "    solver.solution.run_calculation.reporting_interval = 500\n",
    "    # Run the simulation\n",
    "    solver.solution.run_calculation()\n",
    "\n",
    "    solution_path = f\"C:/TUD/Thesis/Data/simulation/ansys/solution/100/attached/attached{i}.txt\"\n",
    "    # Export rake data to csv\n",
    "    solver.file.export.ascii(name = solution_path, \n",
    "                             surface_name_list = [], \n",
    "                             delimiter = \"comma\", \n",
    "                             cell_func_domain = [\"velocity-magnitude\"], \n",
    "                             location = \"node\")"
   ]
  }
 ],
 "metadata": {
  "kernelspec": {
   "display_name": "ansys",
   "language": "python",
   "name": "python3"
  },
  "language_info": {
   "codemirror_mode": {
    "name": "ipython",
    "version": 3
   },
   "file_extension": ".py",
   "mimetype": "text/x-python",
   "name": "python",
   "nbconvert_exporter": "python",
   "pygments_lexer": "ipython3",
   "version": "3.11.7"
  }
 },
 "nbformat": 4,
 "nbformat_minor": 2
}
