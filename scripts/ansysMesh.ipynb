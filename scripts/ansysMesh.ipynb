{
 "cells": [
  {
   "cell_type": "code",
   "execution_count": 4,
   "metadata": {},
   "outputs": [],
   "source": [
    "%matplotlib inline\n",
    "import ansys.fluent.core as pyfluent\n"
   ]
  },
  {
   "cell_type": "code",
   "execution_count": 21,
   "metadata": {},
   "outputs": [],
   "source": [
    "meshing = pyfluent.launch_fluent(mode='meshing')"
   ]
  },
  {
   "cell_type": "code",
   "execution_count": 22,
   "metadata": {},
   "outputs": [],
   "source": [
    "geom_path = \"C:/TUD/Thesis/Data/simulation/ansys/designModeler/100/attached/attached1.agdb\""
   ]
  },
  {
   "cell_type": "code",
   "execution_count": 26,
   "metadata": {},
   "outputs": [
    {
     "data": {
      "text/plain": [
       "True"
      ]
     },
     "execution_count": 26,
     "metadata": {},
     "output_type": "execute_result"
    }
   ],
   "source": [
    "workflow = meshing.workflow\n",
    "# import geometry\n",
    "workflow.InitializeWorkflow(WorkflowType=\"Watertight Geometry\")\n",
    "geo_import = meshing.workflow.TaskObject[\"Import Geometry\"]\n",
    "geo_import.Arguments = {\n",
    "    \"FileName\": geom_path,\n",
    "    \"LengthUnit\": \"m\",\n",
    "}\n",
    "geo_import.Execute()"
   ]
  },
  {
   "cell_type": "code",
   "execution_count": 29,
   "metadata": {},
   "outputs": [],
   "source": [
    "# Set meshing parameters\n",
    "mesh_gen = meshing.workflow.TaskObject[\"Generate the Surface Mesh\"]\n",
    "mesh_gen.Arguments = {\"CFDSurfaceMeshControls\": {\"MaxSize\": 0.5}}\n",
    "mesh_gen.Execute()"
   ]
  },
  {
   "cell_type": "code",
   "execution_count": 40,
   "metadata": {},
   "outputs": [
    {
     "ename": "AttributeError",
     "evalue": "'Meshing' object has no attribute 'meshing_options'",
     "output_type": "error",
     "traceback": [
      "\u001b[1;31m---------------------------------------------------------------------------\u001b[0m",
      "\u001b[1;31mAttributeError\u001b[0m                            Traceback (most recent call last)",
      "Cell \u001b[1;32mIn[40], line 19\u001b[0m\n\u001b[0;32m     16\u001b[0m geo_import\u001b[38;5;241m.\u001b[39mExecute()\n\u001b[0;32m     18\u001b[0m \u001b[38;5;66;03m# Set meshing options\u001b[39;00m\n\u001b[1;32m---> 19\u001b[0m meshing_options \u001b[38;5;241m=\u001b[39m \u001b[43mmeshing\u001b[49m\u001b[38;5;241;43m.\u001b[39;49m\u001b[43mmeshing_options\u001b[49m\n\u001b[0;32m     20\u001b[0m meshing_options\u001b[38;5;241m.\u001b[39mMeshMethod \u001b[38;5;241m=\u001b[39m \u001b[38;5;124m\"\u001b[39m\u001b[38;5;124mAutomatic\u001b[39m\u001b[38;5;124m\"\u001b[39m\n\u001b[0;32m     21\u001b[0m meshing_options\u001b[38;5;241m.\u001b[39mElementSize \u001b[38;5;241m=\u001b[39m element_size\n",
      "\u001b[1;31mAttributeError\u001b[0m: 'Meshing' object has no attribute 'meshing_options'"
     ]
    }
   ],
   "source": [
    "# Set element size\n",
    "element_size = 0.5\n",
    "\n",
    "# Create meshing object\n",
    "meshing = pyfluent.launch_fluent(mode='meshing')\n",
    "\n",
    "# Import geometry\n",
    "geom_path = \"C:/TUD/Thesis/Data/simulation/ansys/designModeler/100/attached/attached1.agdb\"\n",
    "workflow = meshing.workflow\n",
    "workflow.InitializeWorkflow(WorkflowType=\"Watertight Geometry\")\n",
    "geo_import = workflow.TaskObject[\"Import Geometry\"]\n",
    "geo_import.Arguments = {\n",
    "    \"FileName\": geom_path,\n",
    "    \"LengthUnit\": \"m\",\n",
    "}\n",
    "geo_import.Execute()\n",
    "\n",
    "# Set meshing options\n",
    "meshing_options = meshing.meshing_options\n",
    "meshing_options.MeshMethod = \"Automatic\"\n",
    "meshing_options.ElementSize = element_size\n",
    "\n",
    "# Generate mesh\n",
    "meshing.GenerateMesh()\n"
   ]
  }
 ],
 "metadata": {
  "kernelspec": {
   "display_name": "ansys",
   "language": "python",
   "name": "python3"
  },
  "language_info": {
   "codemirror_mode": {
    "name": "ipython",
    "version": 3
   },
   "file_extension": ".py",
   "mimetype": "text/x-python",
   "name": "python",
   "nbconvert_exporter": "python",
   "pygments_lexer": "ipython3",
   "version": "3.11.7"
  }
 },
 "nbformat": 4,
 "nbformat_minor": 2
}
